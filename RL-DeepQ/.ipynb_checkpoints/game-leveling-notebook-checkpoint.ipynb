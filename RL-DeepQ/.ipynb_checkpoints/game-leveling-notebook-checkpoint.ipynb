{
 "cells": [
  {
   "cell_type": "markdown",
   "id": "f08a966e",
   "metadata": {},
   "source": [
    "# 强化学习+深度学习 实现关卡平衡"
   ]
  },
  {
   "cell_type": "markdown",
   "id": "df04090a",
   "metadata": {},
   "source": [
    "## 下载游戏以及相关代码"
   ]
  },
  {
   "cell_type": "code",
   "execution_count": 64,
   "id": "24319e77",
   "metadata": {},
   "outputs": [
    {
     "name": "stdout",
     "output_type": "stream",
     "text": [
      "frozen_lake/\n",
      "frozen_lake/__init__.py\n",
      "frozen_lake/config.py\n",
      "frozen_lake/environment.py\n",
      "frozen_lake/evaluate.py\n",
      "frozen_lake/memory.py\n",
      "frozen_lake/model.py\n",
      "frozen_lake/state.py\n",
      "frozen_lake/train.py\n",
      "frozen_lake/utils.py\n",
      "main.py\n",
      "requirements.txt\n",
      "setup.py\n"
     ]
    },
    {
     "name": "stderr",
     "output_type": "stream",
     "text": [
      "  % Total    % Received % Xferd  Average Speed   Time    Time     Time  Current\n",
      "                                 Dload  Upload   Total   Spent    Left  Speed\n",
      "\r",
      "  0     0    0     0    0     0      0      0 --:--:-- --:--:-- --:--:--     0\r",
      "  0     0    0     0    0     0      0      0 --:--:-- --:--:-- --:--:--     0\r",
      "100  4223  100  4223    0     0  12500      0 --:--:-- --:--:-- --:--:-- 12494\n"
     ]
    }
   ],
   "source": [
    "%%bash\n",
    "mkdir -p ~/SageMaker/frozen-lake\n",
    "curl https://s3.amazonaws.com/sagemaker-us-east-1-537534971119/frozen-lake.tar.gz > frozen-lake.tar.gz\n",
    "tar xvzf frozen-lake.tar.gz -C ~/SageMaker/frozen-lake/\n"
   ]
  },
  {
   "cell_type": "markdown",
   "id": "02104075",
   "metadata": {},
   "source": [
    "## 安装冰雪奇缘湖游戏以及依赖"
   ]
  },
  {
   "cell_type": "code",
   "execution_count": 65,
   "id": "c7b727d6",
   "metadata": {},
   "outputs": [
    {
     "name": "stdout",
     "output_type": "stream",
     "text": [
      "Obtaining file:///home/ec2-user/SageMaker/frozen-lake\n",
      "Requirement already satisfied: dataclasses in /home/ec2-user/anaconda3/envs/pytorch_p36/lib/python3.6/site-packages (from frozen-lake==0.1.0) (0.8)\n",
      "Requirement already satisfied: fire in /home/ec2-user/anaconda3/envs/pytorch_p36/lib/python3.6/site-packages (from frozen-lake==0.1.0) (0.4.0)\n",
      "Requirement already satisfied: gym in /home/ec2-user/anaconda3/envs/pytorch_p36/lib/python3.6/site-packages (from frozen-lake==0.1.0) (0.21.0)\n",
      "Requirement already satisfied: torch in /home/ec2-user/anaconda3/envs/pytorch_p36/lib/python3.6/site-packages (from frozen-lake==0.1.0) (1.4.0)\n",
      "Requirement already satisfied: termcolor in /home/ec2-user/anaconda3/envs/pytorch_p36/lib/python3.6/site-packages (from fire->frozen-lake==0.1.0) (1.1.0)\n",
      "Requirement already satisfied: six in /home/ec2-user/anaconda3/envs/pytorch_p36/lib/python3.6/site-packages (from fire->frozen-lake==0.1.0) (1.16.0)\n",
      "Requirement already satisfied: importlib-metadata>=4.8.1 in /home/ec2-user/anaconda3/envs/pytorch_p36/lib/python3.6/site-packages (from gym->frozen-lake==0.1.0) (4.8.1)\n",
      "Requirement already satisfied: cloudpickle>=1.2.0 in /home/ec2-user/anaconda3/envs/pytorch_p36/lib/python3.6/site-packages (from gym->frozen-lake==0.1.0) (1.6.0)\n",
      "Requirement already satisfied: numpy>=1.18.0 in /home/ec2-user/anaconda3/envs/pytorch_p36/lib/python3.6/site-packages (from gym->frozen-lake==0.1.0) (1.19.5)\n",
      "Requirement already satisfied: typing-extensions>=3.6.4 in /home/ec2-user/anaconda3/envs/pytorch_p36/lib/python3.6/site-packages (from importlib-metadata>=4.8.1->gym->frozen-lake==0.1.0) (3.10.0.2)\n",
      "Requirement already satisfied: zipp>=0.5 in /home/ec2-user/anaconda3/envs/pytorch_p36/lib/python3.6/site-packages (from importlib-metadata>=4.8.1->gym->frozen-lake==0.1.0) (3.6.0)\n",
      "Installing collected packages: frozen-lake\n",
      "  Attempting uninstall: frozen-lake\n",
      "    Found existing installation: frozen-lake 0.1.0\n",
      "    Uninstalling frozen-lake-0.1.0:\n",
      "      Successfully uninstalled frozen-lake-0.1.0\n",
      "  Running setup.py develop for frozen-lake\n",
      "Successfully installed frozen-lake-0.1.0\n",
      "\u001b[33mWARNING: You are using pip version 21.2.4; however, version 21.3.1 is available.\n",
      "You should consider upgrading via the '/home/ec2-user/anaconda3/envs/pytorch_p36/bin/python -m pip install --upgrade pip' command.\u001b[0m\n"
     ]
    }
   ],
   "source": [
    "!pip install -e ~/SageMaker/frozen-lake"
   ]
  },
  {
   "cell_type": "markdown",
   "id": "0fec4dfe",
   "metadata": {},
   "source": [
    "安装完毕后需要重启kernel生效，\n",
    "引入所需依赖"
   ]
  },
  {
   "cell_type": "code",
   "execution_count": 89,
   "id": "4f91353e",
   "metadata": {},
   "outputs": [],
   "source": [
    "%matplotlib inline\n",
    "import matplotlib.pyplot as plt\n",
    "\n",
    "import numpy as np\n",
    "import pandas as pd\n",
    "import torch\n",
    "from gym.envs.toy_text.frozen_lake import FrozenLakeEnv\n",
    "\n",
    "from sagemaker import get_execution_role\n",
    "from sagemaker.pytorch import PyTorch\n",
    "from sagemaker.tuner import (\n",
    "    HyperparameterTuner,\n",
    "    ContinuousParameter,\n",
    "    IntegerParameter,\n",
    ")\n",
    "\n",
    "from frozen_lake import (\n",
    "    Level, LeveledFrozenLake,\n",
    "    play_level, train, DeepQConfig,\n",
    "    get_state, DeepQNetwork, moving_average,\n",
    "    play_manually, get_test_level\n",
    ")\n"
   ]
  },
  {
   "cell_type": "markdown",
   "id": "bcc22549",
   "metadata": {},
   "source": [
    "## 运行游戏，先玩一下"
   ]
  },
  {
   "cell_type": "markdown",
   "id": "828489d7",
   "metadata": {},
   "source": [
    "使用OpenAI Gym 环境引入FrozenLakeEnv环境用于测试游戏。\n",
    "\n",
    "openAI Gym\n",
    "https://github.com/openai/gym\n",
    "Gym 是一个开源 Python 库，通过提供用于在学习算法和环境之间进行通信的标准 API 以及一组符合该 API 的标准环境，用于开发和比较强化学习算法。自发布以来，Gym 的 API 已成为这样做的现场标准。"
   ]
  },
  {
   "cell_type": "markdown",
   "id": "489cbf9a",
   "metadata": {},
   "source": [
    "### 初始化游戏环境"
   ]
  },
  {
   "cell_type": "code",
   "execution_count": 68,
   "id": "f1a517f1",
   "metadata": {},
   "outputs": [
    {
     "name": "stdout",
     "output_type": "stream",
     "text": [
      "\n",
      "\u001b[41mS\u001b[0mFFF\n",
      "FHFH\n",
      "FFFH\n",
      "HFFG\n"
     ]
    }
   ],
   "source": [
    "#https://github.com/openai/gym/blob/master/gym/envs/toy_text/frozen_lake.py\n",
    "env = FrozenLakeEnv()\n",
    "env.render()"
   ]
  },
  {
   "cell_type": "markdown",
   "id": "fce4aea2",
   "metadata": {},
   "source": [
    "左上角的“S”代表“开始”，右下角的“G”代表“目标”。 “F”和“H”分别代表“冻结”和“洞”。游戏的想法是导航到目标而不会掉入冰洞。这将是微不足道的，除非冰很滑，使您的动作不确定。\n",
    "\n",
    "与环境交互的最重要的概念是状态、动作和奖励。只要板子被认为是固定的（稍后您将使用动态板子），状态只是光标的位置。环境对象将其存储在 s 属性中。"
   ]
  },
  {
   "cell_type": "code",
   "execution_count": 69,
   "id": "0aeef849",
   "metadata": {},
   "outputs": [
    {
     "data": {
      "text/plain": [
       "0"
      ]
     },
     "execution_count": 69,
     "metadata": {},
     "output_type": "execute_result"
    }
   ],
   "source": [
    "env.s"
   ]
  },
  {
   "cell_type": "markdown",
   "id": "60525dc2",
   "metadata": {},
   "source": [
    "当您向右和向下移动时，状态会增加。\n",
    "\n",
    "动作是代理对下一步做什么的决定。在这个游戏中，有四种可能的动作：向左、向下、向右和向上。这四个动作分别用整数 0、1、2 和 3 表示。\n",
    "\n",
    "环境的最后一个重要概念是奖励。在这个游戏中，达到目标的奖励为 1.0，所有其他步骤的奖励为 0.0。在训练期间，代理的目标是找到一个最大化奖励的策略。"
   ]
  },
  {
   "cell_type": "code",
   "execution_count": 70,
   "id": "ccfee04e",
   "metadata": {},
   "outputs": [
    {
     "name": "stdout",
     "output_type": "stream",
     "text": [
      "\n",
      "\u001b[41mS\u001b[0mFFF\n",
      "FHFH\n",
      "FFFH\n",
      "HFFG\n"
     ]
    }
   ],
   "source": [
    "env = FrozenLakeEnv(is_slippery=False)\n",
    "env.render()"
   ]
  },
  {
   "cell_type": "markdown",
   "id": "e974672a",
   "metadata": {},
   "source": [
    "关闭滑动模式并采取一些确定性操作的步骤来感受 API。在一个新单元格中，创建一个关闭滑动模式的新环境并渲染它："
   ]
  },
  {
   "cell_type": "code",
   "execution_count": 71,
   "id": "5ec21f68",
   "metadata": {},
   "outputs": [
    {
     "name": "stdout",
     "output_type": "stream",
     "text": [
      "  (Down)\n",
      "SFFF\n",
      "\u001b[41mF\u001b[0mHFH\n",
      "FFFH\n",
      "HFFG\n"
     ]
    }
   ],
   "source": [
    "LEFT = 0\n",
    "DOWN = 1\n",
    "RIGHT = 2\n",
    "UP = 3\n",
    "\n",
    "env.step(DOWN)\n",
    "env.render()"
   ]
  },
  {
   "cell_type": "markdown",
   "id": "6e660fa2",
   "metadata": {},
   "source": [
    "为方向定义常量，使用 step() 方法执行操作并重新渲染板："
   ]
  },
  {
   "cell_type": "code",
   "execution_count": 72,
   "id": "9d211249",
   "metadata": {},
   "outputs": [
    {
     "name": "stdout",
     "output_type": "stream",
     "text": [
      "  (Right)\n",
      "SFFF\n",
      "F\u001b[41mH\u001b[0mFH\n",
      "FFFH\n",
      "HFFG\n"
     ]
    }
   ],
   "source": [
    "env.step(RIGHT)\n",
    "env.render()"
   ]
  },
  {
   "cell_type": "markdown",
   "id": "de69f894",
   "metadata": {},
   "source": [
    "### 使用API玩一下游戏"
   ]
  },
  {
   "cell_type": "code",
   "execution_count": 108,
   "id": "58d37017",
   "metadata": {},
   "outputs": [
    {
     "name": "stdout",
     "output_type": "stream",
     "text": [
      "  (Right)\n",
      "SFFF\n",
      "FHFH\n",
      "FFFH\n",
      "HFF\u001b[41mG\u001b[0m\n"
     ]
    }
   ],
   "source": [
    "env.reset()\n",
    "env.step(DOWN)\n",
    "env.step(DOWN)\n",
    "env.step(RIGHT)\n",
    "env.step(RIGHT)\n",
    "env.step(DOWN)\n",
    "env.step(RIGHT)\n",
    "env.render()"
   ]
  },
  {
   "cell_type": "markdown",
   "id": "a298c2e5",
   "metadata": {},
   "source": [
    "现在您已经了解了环境的运作方式，最好手动玩几次游戏以了解游戏的运作方式。虽然目标是训练智能体自动玩游戏，但对游戏有一些直觉会帮助你制定有效的训练策略。尽管在关闭滑行模式时策略很明显，但对代理行为的非确定性响应改变了方法。"
   ]
  },
  {
   "cell_type": "code",
   "execution_count": 74,
   "id": "acad07b2",
   "metadata": {},
   "outputs": [],
   "source": [
    "## 注意需要使用notebook 才可以显示wiget，使用jupuyter notebook lab 按钮显示不了"
   ]
  },
  {
   "cell_type": "markdown",
   "id": "f2c7246c",
   "metadata": {},
   "source": [
    "### 通过图形化界面玩一下游戏"
   ]
  },
  {
   "cell_type": "markdown",
   "id": "f7344be0",
   "metadata": {},
   "source": [
    "禁止冰块滑倒模式"
   ]
  },
  {
   "cell_type": "code",
   "execution_count": 111,
   "id": "2041b3ba",
   "metadata": {},
   "outputs": [
    {
     "name": "stdout",
     "output_type": "stream",
     "text": [
      "  (Down)\n",
      "SFFF\n",
      "F\u001b[41mH\u001b[0mFH\n",
      "FFFH\n",
      "HFFG\n"
     ]
    },
    {
     "data": {
      "application/vnd.jupyter.widget-view+json": {
       "model_id": "d86480db4b964206b3355b7adf6494e5",
       "version_major": 2,
       "version_minor": 0
      },
      "text/plain": [
       "VBox(children=(HBox(children=(Button(disabled=True, style=ButtonStyle()), Button(description='UP', style=Butto…"
      ]
     },
     "metadata": {},
     "output_type": "display_data"
    },
    {
     "name": "stdout",
     "output_type": "stream",
     "text": [
      "-- Lose --\n"
     ]
    }
   ],
   "source": [
    "env = FrozenLakeEnv(is_slippery=false)\n",
    "play_manually(env)"
   ]
  },
  {
   "cell_type": "markdown",
   "id": "d9b950d5",
   "metadata": {},
   "source": [
    "启用冰块滑倒模式"
   ]
  },
  {
   "cell_type": "code",
   "execution_count": 115,
   "id": "82760943",
   "metadata": {},
   "outputs": [
    {
     "name": "stdout",
     "output_type": "stream",
     "text": [
      "\n",
      "\u001b[41mS\u001b[0mFFF\n",
      "FHFH\n",
      "FFFH\n",
      "HFFG\n"
     ]
    },
    {
     "data": {
      "application/vnd.jupyter.widget-view+json": {
       "model_id": "bab2cb78f7944ba490b88d65a255b8e8",
       "version_major": 2,
       "version_minor": 0
      },
      "text/plain": [
       "VBox(children=(HBox(children=(Button(disabled=True, style=ButtonStyle()), Button(description='UP', style=Butto…"
      ]
     },
     "metadata": {},
     "output_type": "display_data"
    }
   ],
   "source": [
    "env = FrozenLakeEnv(is_slippery=True)\n",
    "play_manually(env)"
   ]
  },
  {
   "cell_type": "markdown",
   "id": "039ee203",
   "metadata": {},
   "source": [
    "到目前为止，已经有两种游戏模式：滑和不滑。滑倒模式非常困难而且违反直觉，优势后莫名其妙的改变指令的方向。这样的滑倒模式意义不大。默认情况下，你可以用来改变《冰雪奇缘湖》游戏难度的唯一办法是创建不同的棋盘。但是为了创建多个关卡，最好也能够调整犯错的概率。"
   ]
  },
  {
   "cell_type": "code",
   "execution_count": 116,
   "id": "dcb9ac87",
   "metadata": {},
   "outputs": [
    {
     "data": {
      "text/plain": [
       "0"
      ]
     },
     "execution_count": 116,
     "metadata": {},
     "output_type": "execute_result"
    }
   ],
   "source": [
    "env.reset()"
   ]
  },
  {
   "cell_type": "markdown",
   "id": "e6362bc0",
   "metadata": {},
   "source": [
    "* 使用随机难度，增加犯错的概率"
   ]
  },
  {
   "cell_type": "code",
   "execution_count": 117,
   "id": "80f1d9c8",
   "metadata": {},
   "outputs": [
    {
     "name": "stdout",
     "output_type": "stream",
     "text": [
      "\n",
      "\u001b[41mS\u001b[0mFFF\n",
      "FFFF\n",
      "FFFH\n",
      "FFFG\n"
     ]
    },
    {
     "data": {
      "application/vnd.jupyter.widget-view+json": {
       "model_id": "50a7c9e9268c4e8ab9c2540314b6704e",
       "version_major": 2,
       "version_minor": 0
      },
      "text/plain": [
       "VBox(children=(HBox(children=(Button(disabled=True, style=ButtonStyle()), Button(description='UP', style=Butto…"
      ]
     },
     "metadata": {},
     "output_type": "display_data"
    }
   ],
   "source": [
    "random_level = LeveledFrozenLake.random(0.2)\n",
    "play_manually(random_level)"
   ]
  },
  {
   "cell_type": "markdown",
   "id": "38913846",
   "metadata": {},
   "source": [
    "这些关卡比非滑模式关卡难得多，但比 OpenAI Gym 中的默认游戏要容易得多（后者犯错的概率为 67％）。"
   ]
  },
  {
   "cell_type": "markdown",
   "id": "85b381b9",
   "metadata": {},
   "source": [
    "## 训练一个机器人"
   ]
  },
  {
   "cell_type": "markdown",
   "id": "4b53753f",
   "metadata": {},
   "source": [
    "### 随机代理（未经训练的机器人）"
   ]
  },
  {
   "cell_type": "markdown",
   "id": "992de0d8",
   "metadata": {},
   "source": [
    "现在，你应该创建一个可以自动播放关卡的随机代理。这将作为您可以期望从学习的代理获得的性能的基准 — 学习的代理应该优于随机代理。\n",
    "\n",
    "frozen-lake 软件包中的卡。 play_level () 函数是一个帮助程序，允许代理玩《冰雪奇缘湖》游戏的某个关卡\n",
    "\n",
    "* 该函数有两个参数：env 和 get_action ()。env 参数是冰冻湖环境。另一个参数是可调用对象 —— 一个定义游戏行为的函数。get_action () 可调用对象将接受一个环境并返回一个操作。\n",
    "\n",
    "* play_level () 函数重置环境，然后执行操作，直到游戏完成 或 代理完成 100 个步骤（以先到者为准）。然后它返回的奖励将是 0.0 或 1.0，具体取决于是否赢了该等级。\n",
    "\n",
    "* 要评估随机代理，你需要一个测试级别和一个 get_action () 可调用对象，它在每个步骤都返回一个随机动作。"
   ]
  },
  {
   "cell_type": "markdown",
   "id": "85c99ca0",
   "metadata": {},
   "source": [
    "构建随机代理进行测试\n",
    "定义随机行为"
   ]
  },
  {
   "cell_type": "code",
   "execution_count": 56,
   "id": "b5ec55e7",
   "metadata": {},
   "outputs": [],
   "source": [
    "def random_action(env: FrozenLakeEnv) -> int:\n",
    "    \"\"\"Choose a random action\"\"\"\n",
    "    return np.random.randint(env.nA)"
   ]
  },
  {
   "cell_type": "code",
   "execution_count": 57,
   "id": "121e05d4",
   "metadata": {
    "scrolled": false
   },
   "outputs": [
    {
     "data": {
      "text/plain": [
       "0.0"
      ]
     },
     "execution_count": 57,
     "metadata": {},
     "output_type": "execute_result"
    }
   ],
   "source": [
    "play_level(get_test_level(), random_action)"
   ]
  },
  {
   "cell_type": "markdown",
   "id": "e41973ee",
   "metadata": {},
   "source": [
    "使用随机代理，玩10000次游戏"
   ]
  },
  {
   "cell_type": "code",
   "execution_count": 58,
   "id": "d6272005",
   "metadata": {},
   "outputs": [],
   "source": [
    "# Run a random agent on the same level 10,000 times\n",
    "np.random.seed(1)\n",
    "n_attempts = 10000\n",
    "test_level = get_test_level()\n",
    "rewards = [\n",
    "    play_level(test_level, random_action)\n",
    "    for _ in range(n_attempts)\n",
    "]"
   ]
  },
  {
   "cell_type": "markdown",
   "id": "f856fec8",
   "metadata": {},
   "source": [
    "现在计算随机代理的获胜百分比："
   ]
  },
  {
   "cell_type": "code",
   "execution_count": 60,
   "id": "cede92ba",
   "metadata": {},
   "outputs": [
    {
     "data": {
      "text/plain": [
       "0.0142"
      ]
     },
     "execution_count": 60,
     "metadata": {},
     "output_type": "execute_result"
    }
   ],
   "source": [
    "sum(rewards) / n_attempts"
   ]
  },
  {
   "cell_type": "code",
   "execution_count": 80,
   "id": "62f51778",
   "metadata": {
    "scrolled": true
   },
   "outputs": [
    {
     "data": {
      "text/plain": [
       "142.0"
      ]
     },
     "execution_count": 80,
     "metadata": {},
     "output_type": "execute_result"
    }
   ],
   "source": [
    "sum(rewards)"
   ]
  },
  {
   "cell_type": "markdown",
   "id": "491b75d1",
   "metadata": {},
   "source": [
    "## 训练一个有智慧的代理（机器人）\n",
    "为了训练这个机器人我们需要将当前的状态信息向量化，这里通过一个矩阵来表示，每一个cell表示当前的状态 0表示冻结，1表示洞"
   ]
  },
  {
   "cell_type": "markdown",
   "id": "d178d65f",
   "metadata": {},
   "source": [
    "请记住，Frozen Lake 环境的状态是 [0, 15] 范围内的整数，表示光标在 4x4 板上的位置。如果看板是固定的，这很有效，因为要对下一个操作做出正确的决定，你唯一需要的信息就是当前位置。\n",
    "\n",
    "* 但是，如果同一个代理要玩多个不同的棋盘，那么代理需要有关注两部分信息：板的配置和光标的位置。"
   ]
  },
  {
   "cell_type": "markdown",
   "id": "8e396f90",
   "metadata": {},
   "source": [
    "状态信息可以很容易通过数组或更高维度的张量。为了简单起见，在本教程中，state通过一维数组表示。"
   ]
  },
  {
   "cell_type": "markdown",
   "id": "ade193f2",
   "metadata": {},
   "source": [
    "* 这样board将永远是 4x4的矩阵。你还知道左上角（位置 0）始终是 'S' 表示开始，右下角（位置 15）始终是 'G' 表示目标。因为这两个单元格是固定的，所以你不需要把这些单元格放在状态数组中。\n",
    "* 还有 14 个单元，它们可以是 “F” 表示冻结，也可以是 “H” 表示洞。由于状态数组需要是数字，因此使用 0 表示冻结，使用 1 表示从左向右移动的 H（按行主要顺序）。\n",
    "\n",
    "使用两个 one-hot 向量来存储光标的位置：一个用于光标行，另一个用于列。要将单个整数位置转换为两个 one-hot 向量，请获取整数位置的行 (m) 和列 (n)。一个one-hot向量将是 4x4 单位矩阵的第 n 行和第 n 行。\n",
    "\n",
    "在 frozen-lake 软件包中有一个名为 get_state () 的函数，它在给定状态下为游戏板生成一个完整的状态数组。看看 frozen_lake/state.py 看看它是如何工作的。"
   ]
  },
  {
   "cell_type": "code",
   "execution_count": 119,
   "id": "aa5ddd45",
   "metadata": {},
   "outputs": [
    {
     "name": "stdout",
     "output_type": "stream",
     "text": [
      "\n",
      "\u001b[41mS\u001b[0mFFF\n",
      "FHFH\n",
      "FFFH\n",
      "HFFG\n"
     ]
    },
    {
     "data": {
      "text/plain": [
       "tensor([0., 0., 0., 0., 1., 0., 1., 0., 0., 0., 1., 1., 0., 0., 1., 0., 0., 0.,\n",
       "        1., 0., 0., 0.])"
      ]
     },
     "execution_count": 119,
     "metadata": {},
     "output_type": "execute_result"
    }
   ],
   "source": [
    "test_level = get_test_level()\n",
    "test_level.render()\n",
    "get_state(test_level)"
   ]
  },
  {
   "cell_type": "markdown",
   "id": "50c55f3f",
   "metadata": {},
   "source": [
    "### 本地训练一个机器人（策略网络）"
   ]
  },
  {
   "cell_type": "markdown",
   "id": "de5f55cc",
   "metadata": {},
   "source": [
    "开始新游戏\n",
    "对于游戏中的每一步：\n",
    "* 通过策略网络运行游戏状态以获取操作\n",
    "* 执行操作并获取新状态\n",
    "* 使用当前奖励（或缺少奖励）更新保单网络\n",
    "* 游戏完成后，打破循环\n",
    "* 训练运行的剧集数量可配置。"
   ]
  },
  {
   "cell_type": "markdown",
   "id": "d882fa84",
   "metadata": {},
   "source": [
    "策略神经网络由两个线性层组成，在第一层之后激活一个 relU，在第二层之后激活一个 softmax。softmax 层输出一个大小为 4 的数组（四个操作中的每个操作一个元素）。最佳操作应与最高输出相对应。但是，在训练和模拟游戏过程中，最好引入一些随机性以防止代理卡住。\n",
    "\n",
    "策略网络是在 frozen_lake/model.py 中定义的 —— 看看它是如何工作的。当然，有可能使网络更深入、更复杂。但是对于简单的游戏来说，保持网络规模较小是个好主意，因为游戏很简单，小型网络的训练速度更快。"
   ]
  },
  {
   "cell_type": "markdown",
   "id": "965aa1ce",
   "metadata": {},
   "source": [
    "如果您按照上述的高级程序训练此网络，则很难学习如何很好地发挥冰冻湖的作用的策略。强化学习往往不稳定，并且有一些修改对于它在实践中很好地发挥作用非常重要：体验重放和目标网络。\n",
    "\n",
    "在实际更新网络之前，体验重放会跟踪几个步骤的奖励。目标网络是策略网络的克隆，更新频率较低。\n",
    "\n",
    "这两个修改的实现都基于 PyTorch 站点的教程。查看 frozen_lake/memory.py 和目标网络中体验重播的内存，并更新 frozen_lake/train.py 中的步进逻辑。"
   ]
  },
  {
   "cell_type": "markdown",
   "id": "fbc08421",
   "metadata": {},
   "source": [
    "####  使用DeepQ网络训练\n",
    "* DeepQ网络介绍：https://towardsdatascience.com/beating-video-games-with-deep-q-networks-7f73320b9592\n",
    "* Pytorch深度学习介绍：https://pytorch.org/tutorials/intermediate/reinforcement_q_learning.html"
   ]
  },
  {
   "cell_type": "code",
   "execution_count": 82,
   "id": "72cfd1b9",
   "metadata": {},
   "outputs": [],
   "source": [
    "config = DeepQConfig()"
   ]
  },
  {
   "cell_type": "code",
   "execution_count": 83,
   "id": "7e5dd8d3",
   "metadata": {},
   "outputs": [
    {
     "name": "stdout",
     "output_type": "stream",
     "text": [
      "MaxReward=0.63\n"
     ]
    }
   ],
   "source": [
    "local_policy, reward = train(config)"
   ]
  },
  {
   "cell_type": "code",
   "execution_count": 84,
   "id": "fb541c5a",
   "metadata": {},
   "outputs": [
    {
     "data": {
      "image/png": "[encoded data removed]",
      "text/plain": [
       "<Figure size 432x288 with 1 Axes>"
      ]
     },
     "metadata": {
      "needs_background": "light"
     },
     "output_type": "display_data"
    }
   ],
   "source": [
    "plt.plot(moving_average(reward))\n",
    "plt.ylabel('reward')\n",
    "plt.xlabel('episode');\n"
   ]
  },
  {
   "cell_type": "markdown",
   "id": "966be611",
   "metadata": {},
   "source": [
    "你可以看到，即使进行了体验重播和目标网络修改，奖励仍然有些不稳定。这是使用超参数搜索扩大训练范围以便找到效果最佳的策略的一个很好的理由。"
   ]
  },
  {
   "cell_type": "markdown",
   "id": "9ae56c7e",
   "metadata": {},
   "source": [
    "现在尝试之前的标准测试级别上的策略网络并打印结果："
   ]
  },
  {
   "cell_type": "code",
   "execution_count": 87,
   "id": "634c94f8",
   "metadata": {},
   "outputs": [
    {
     "data": {
      "text/plain": [
       "0.0687"
      ]
     },
     "execution_count": 87,
     "metadata": {},
     "output_type": "execute_result"
    }
   ],
   "source": [
    "np.random.seed(1)\n",
    "n_attempts = 10000\n",
    "test_level = get_test_level()\n",
    "rewards = [\n",
    "    play_level(test_level, local_policy.learned_action)\n",
    "    for _ in range(n_attempts)\n",
    "]\n",
    "sum(rewards) / n_attempts\n"
   ]
  },
  {
   "cell_type": "markdown",
   "id": "33145f23",
   "metadata": {},
   "source": [
    "获胜百分比应高于之前的随机代理。"
   ]
  },
  {
   "cell_type": "markdown",
   "id": "e2f80a7b",
   "metadata": {},
   "source": [
    "## 使用Sagemaker进行训练"
   ]
  },
  {
   "cell_type": "markdown",
   "id": "462fde22",
   "metadata": {},
   "source": [
    "由于学习策略的性能不稳定 —— 不足以估计人类的表现，因此最好将训练扩展到跨不同超参数的多次尝试。SageMaker 让这变得非常简单。首先，您将向单个训练作业发送训练脚本，然后使用超参数调整功能搜索超参数值。\n",
    "\n",
    "要在 SageMaker 上训练作业，您需要一个脚本作为训练容器的入口点。SageMaker 会将超参数作为命令行参数传入。因此，例如，如果你的脚本名为 main.py，并且你想要传入 target_update 值 5 作为超参数，SageMaker 将在训练容器中运行命令 python main.py —target_update 5。\n",
    "\n",
    "脚本需要训练模型并将其保存到特定位置的磁盘中。然后，SageMaker 会将模型上传到 S3，在那里它可以在本地或托管终端节点中使用。\n",
    "\n",
    "在本教程中，main.py 脚本已经编写完成，它位于带有 setup.py 的顶级冷冻湖文件夹中。要在 SageMaker 上将其作为训练作业运行："
   ]
  },
  {
   "cell_type": "markdown",
   "id": "8c3f0780",
   "metadata": {},
   "source": [
    "集成训练代码到Sagemaker使用BYOS"
   ]
  },
  {
   "cell_type": "code",
   "execution_count": 95,
   "id": "4b7069ea",
   "metadata": {},
   "outputs": [
    {
     "name": "stderr",
     "output_type": "stream",
     "text": [
      "train_instance_count has been renamed in sagemaker>=2.\n",
      "See: https://sagemaker.readthedocs.io/en/stable/v2.html for details.\n",
      "train_instance_type has been renamed in sagemaker>=2.\n",
      "See: https://sagemaker.readthedocs.io/en/stable/v2.html for details.\n"
     ]
    }
   ],
   "source": [
    "estimator = PyTorch(\n",
    "    entry_point='main.py',\n",
    "    source_dir='/home/ec2-user/SageMaker/frozen-lake/',\n",
    "    framework_version='1.2.0',\n",
    "    train_instance_type='ml.m5.large',\n",
    "    train_instance_count=1,\n",
    "    role=get_execution_role(),\n",
    "    py_version='py3'\n",
    ")"
   ]
  },
  {
   "cell_type": "code",
   "execution_count": 96,
   "id": "76b84635",
   "metadata": {
    "scrolled": false
   },
   "outputs": [
    {
     "name": "stdout",
     "output_type": "stream",
     "text": [
      "2021-11-08 06:49:45 Starting - Starting the training job...\n",
      "2021-11-08 06:50:09 Starting - Launching requested ML instancesProfilerReport-1636354185: InProgress\n",
      "......\n",
      "2021-11-08 06:51:09 Starting - Preparing the instances for training.........\n",
      "2021-11-08 06:52:43 Downloading - Downloading input data\n",
      "2021-11-08 06:52:43 Training - Downloading the training image...\n",
      "2021-11-08 06:53:09 Training - Training image download completed. Training in progress.\u001b[34mbash: cannot set terminal process group (-1): Inappropriate ioctl for device\u001b[0m\n",
      "\u001b[34mbash: no job control in this shell\u001b[0m\n",
      "\u001b[34m2021-11-08 06:53:04,719 sagemaker-containers INFO     Imported framework sagemaker_pytorch_container.training\u001b[0m\n",
      "\u001b[34m2021-11-08 06:53:04,724 sagemaker-containers INFO     No GPUs detected (normal if no gpus installed)\u001b[0m\n",
      "\u001b[34m2021-11-08 06:53:04,744 sagemaker_pytorch_container.training INFO     Block until all host DNS lookups succeed.\u001b[0m\n",
      "\u001b[34m2021-11-08 06:53:07,797 sagemaker_pytorch_container.training INFO     Invoking user training script.\u001b[0m\n",
      "\u001b[34m2021-11-08 06:53:08,106 sagemaker-containers INFO     Installing module with the following command:\u001b[0m\n",
      "\u001b[34m/opt/conda/bin/python -m pip install . -r requirements.txt\u001b[0m\n",
      "\u001b[34mProcessing /opt/ml/code\u001b[0m\n",
      "\u001b[34mProcessing /opt/ml/code\u001b[0m\n",
      "\u001b[34mRequirement already satisfied: dataclasses in /opt/conda/lib/python3.6/site-packages (from frozen-lake==0.1.0) (0.6)\u001b[0m\n",
      "\u001b[34mCollecting fire\n",
      "  Downloading https://files.pythonhosted.org/packages/11/07/a119a1aa04d37bc819940d95ed7e135a7dcca1c098123a3764a6dcace9e7/fire-0.4.0.tar.gz (87kB)\u001b[0m\n",
      "\u001b[34mCollecting gym\n",
      "  Downloading https://files.pythonhosted.org/packages/4b/48/920cea66177b865663fde5a9390a59de0ef3b642ad98106ac1d8717d7005/gym-0.21.0.tar.gz (1.5MB)\u001b[0m\n",
      "\u001b[34mRequirement already satisfied: torch in /opt/conda/lib/python3.6/site-packages (from frozen-lake==0.1.0) (1.2.0)\u001b[0m\n",
      "\u001b[34mRequirement already satisfied: six in /opt/conda/lib/python3.6/site-packages (from fire->frozen-lake==0.1.0) (1.12.0)\u001b[0m\n",
      "\u001b[34mCollecting termcolor\n",
      "  Downloading https://files.pythonhosted.org/packages/8a/48/a76be51647d0eb9f10e2a4511bf3ffb8cc1e6b14e9e4fab46173aa79f981/termcolor-1.1.0.tar.gz\u001b[0m\n",
      "\u001b[34mCollecting numpy>=1.18.0\n",
      "  Downloading https://files.pythonhosted.org/packages/14/32/d3fa649ad7ec0b82737b92fefd3c4dd376b0bb23730715124569f38f3a08/numpy-1.19.5-cp36-cp36m-manylinux2010_x86_64.whl (14.8MB)\u001b[0m\n",
      "\u001b[34mCollecting cloudpickle>=1.2.0\n",
      "  Downloading https://files.pythonhosted.org/packages/07/3c/bf72ebd3e78eb1ef773f4f0650ecdc29c6454aeafe9c08f6da3f227dd2bc/cloudpickle-2.0.0-py3-none-any.whl\u001b[0m\n",
      "\u001b[34mCollecting importlib_metadata>=4.8.1\n",
      "  Downloading https://files.pythonhosted.org/packages/71/c2/cb1855f0b2a0ae9ccc9b69f150a7aebd4a8d815bd951e74621c4154c52a8/importlib_metadata-4.8.1-py3-none-any.whl\u001b[0m\n",
      "\u001b[34mCollecting zipp>=0.5\u001b[0m\n",
      "\u001b[34m  Downloading https://files.pythonhosted.org/packages/bd/df/d4a4974a3e3957fd1c1fa3082366d7fff6e428ddb55f074bf64876f8e8ad/zipp-3.6.0-py3-none-any.whl\u001b[0m\n",
      "\u001b[34mCollecting typing-extensions>=3.6.4; python_version < \"3.8\"\n",
      "  Downloading https://files.pythonhosted.org/packages/74/60/18783336cc7fcdd95dae91d73477830aa53f5d3181ae4fe20491d7fc3199/typing_extensions-3.10.0.2-py3-none-any.whl\u001b[0m\n",
      "\u001b[34mBuilding wheels for collected packages: frozen-lake, fire, gym, termcolor\n",
      "  Building wheel for frozen-lake (setup.py): started\n",
      "  Building wheel for frozen-lake (setup.py): finished with status 'done'\n",
      "  Created wheel for frozen-lake: filename=frozen_lake-0.1.0-cp36-none-any.whl size=6948 sha256=f80aca58e3827f1d5b9577857248d51ee7275fea96d9c5e5d100b9cb190c4331\n",
      "  Stored in directory: /tmp/pip-ephem-wheel-cache-qge74lkw/wheels/35/24/16/37574d11bf9bde50616c67372a334f94fa8356bc7164af8ca3\n",
      "  Building wheel for fire (setup.py): started\n",
      "  Building wheel for fire (setup.py): finished with status 'done'\n",
      "  Created wheel for fire: filename=fire-0.4.0-py2.py3-none-any.whl size=115928 sha256=ef3b50abea751125b0cb37c59f72145c6511713a56f440039f1e9c517496bff2\n",
      "  Stored in directory: /root/.cache/pip/wheels/af/19/30/1ea0cad502dcb4e66ed5a690279628c827aea38bbbab75d5ed\n",
      "  Building wheel for gym (setup.py): started\u001b[0m\n",
      "\u001b[34m  Building wheel for gym (setup.py): finished with status 'done'\n",
      "  Created wheel for gym: filename=gym-0.21.0-cp36-none-any.whl size=1616828 sha256=2e9af85f350bba6bcdcd6f6f51a91d9e186fa134b495e12f2702692ae1e8d88b\n",
      "  Stored in directory: /root/.cache/pip/wheels/a9/38/eb/6f4627557fa3c77cc4b07654d299dfb1c43d5dd3ad966ea6c7\n",
      "  Building wheel for termcolor (setup.py): started\n",
      "  Building wheel for termcolor (setup.py): finished with status 'done'\n",
      "  Created wheel for termcolor: filename=termcolor-1.1.0-cp36-none-any.whl size=4832 sha256=a6006d80b296c2474443d04732dbbf23fe4f8c5f53690e6e56c8ad3b279a43e7\n",
      "  Stored in directory: /root/.cache/pip/wheels/7c/06/54/bc84598ba1daf8f970247f550b175aaaee85f68b4b0c5ab2c6\u001b[0m\n",
      "\u001b[34mSuccessfully built frozen-lake fire gym termcolor\u001b[0m\n",
      "\u001b[34mERROR: sagemaker-pytorch-container 1.2 has requirement numpy==1.16.4, but you'll have numpy 1.19.5 which is incompatible.\u001b[0m\n",
      "\u001b[34mInstalling collected packages: termcolor, fire, numpy, cloudpickle, zipp, typing-extensions, importlib-metadata, gym, frozen-lake\n",
      "  Found existing installation: numpy 1.16.4\n",
      "    Uninstalling numpy-1.16.4:\n",
      "      Successfully uninstalled numpy-1.16.4\u001b[0m\n",
      "\u001b[34m  Found existing installation: frozen-lake 0.1.0\n",
      "    Can't uninstall 'frozen-lake'. No files were found to uninstall.\u001b[0m\n",
      "\u001b[34mSuccessfully installed cloudpickle-2.0.0 fire-0.4.0 frozen-lake-0.1.0 gym-0.21.0 importlib-metadata-4.8.1 numpy-1.19.5 termcolor-1.1.0 typing-extensions-3.10.0.2 zipp-3.6.0\u001b[0m\n",
      "\u001b[34mWARNING: You are using pip version 19.3; however, version 21.3.1 is available.\u001b[0m\n",
      "\u001b[34mYou should consider upgrading via the 'pip install --upgrade pip' command.\u001b[0m\n",
      "\u001b[34m2021-11-08 06:53:15,872 sagemaker-containers INFO     No GPUs detected (normal if no gpus installed)\u001b[0m\n",
      "\u001b[34m2021-11-08 06:53:15,883 sagemaker-containers INFO     Invoking user script\u001b[0m\n",
      "\u001b[34mTraining Env:\u001b[0m\n",
      "\u001b[34m{\n",
      "    \"additional_framework_parameters\": {},\n",
      "    \"channel_input_dirs\": {},\n",
      "    \"current_host\": \"algo-1\",\n",
      "    \"framework_module\": \"sagemaker_pytorch_container.training:main\",\n",
      "    \"hosts\": [\n",
      "        \"algo-1\"\n",
      "    ],\n",
      "    \"hyperparameters\": {},\n",
      "    \"input_config_dir\": \"/opt/ml/input/config\",\n",
      "    \"input_data_config\": {},\n",
      "    \"input_dir\": \"/opt/ml/input\",\n",
      "    \"is_master\": true,\n",
      "    \"job_name\": \"pytorch-training-2021-11-08-06-49-45-156\",\n",
      "    \"log_level\": 20,\n",
      "    \"master_hostname\": \"algo-1\",\n",
      "    \"model_dir\": \"/opt/ml/model\",\n",
      "    \"module_dir\": \"s3://sagemaker-us-west-2-517141035927/pytorch-training-2021-11-08-06-49-45-156/source/sourcedir.tar.gz\",\n",
      "    \"module_name\": \"main\",\n",
      "    \"network_interface_name\": \"eth0\",\n",
      "    \"num_cpus\": 2,\n",
      "    \"num_gpus\": 0,\n",
      "    \"output_data_dir\": \"/opt/ml/output/data\",\n",
      "    \"output_dir\": \"/opt/ml/output\",\n",
      "    \"output_intermediate_dir\": \"/opt/ml/output/intermediate\",\n",
      "    \"resource_config\": {\n",
      "        \"current_host\": \"algo-1\",\n",
      "        \"hosts\": [\n",
      "            \"algo-1\"\n",
      "        ],\n",
      "        \"network_interface_name\": \"eth0\"\n",
      "    },\n",
      "    \"user_entry_point\": \"main.py\"\u001b[0m\n",
      "\u001b[34m}\u001b[0m\n",
      "\u001b[34mEnvironment variables:\u001b[0m\n",
      "\u001b[34mSM_HOSTS=[\"algo-1\"]\u001b[0m\n",
      "\u001b[34mSM_NETWORK_INTERFACE_NAME=eth0\u001b[0m\n",
      "\u001b[34mSM_HPS={}\u001b[0m\n",
      "\u001b[34mSM_USER_ENTRY_POINT=main.py\u001b[0m\n",
      "\u001b[34mSM_FRAMEWORK_PARAMS={}\u001b[0m\n",
      "\u001b[34mSM_RESOURCE_CONFIG={\"current_host\":\"algo-1\",\"hosts\":[\"algo-1\"],\"network_interface_name\":\"eth0\"}\u001b[0m\n",
      "\u001b[34mSM_INPUT_DATA_CONFIG={}\u001b[0m\n",
      "\u001b[34mSM_OUTPUT_DATA_DIR=/opt/ml/output/data\u001b[0m\n",
      "\u001b[34mSM_CHANNELS=[]\u001b[0m\n",
      "\u001b[34mSM_CURRENT_HOST=algo-1\u001b[0m\n",
      "\u001b[34mSM_MODULE_NAME=main\u001b[0m\n",
      "\u001b[34mSM_LOG_LEVEL=20\u001b[0m\n",
      "\u001b[34mSM_FRAMEWORK_MODULE=sagemaker_pytorch_container.training:main\u001b[0m\n",
      "\u001b[34mSM_INPUT_DIR=/opt/ml/input\u001b[0m\n",
      "\u001b[34mSM_INPUT_CONFIG_DIR=/opt/ml/input/config\u001b[0m\n",
      "\u001b[34mSM_OUTPUT_DIR=/opt/ml/output\u001b[0m\n",
      "\u001b[34mSM_NUM_CPUS=2\u001b[0m\n",
      "\u001b[34mSM_NUM_GPUS=0\u001b[0m\n",
      "\u001b[34mSM_MODEL_DIR=/opt/ml/model\u001b[0m\n",
      "\u001b[34mSM_MODULE_DIR=s3://sagemaker-us-west-2-517141035927/pytorch-training-2021-11-08-06-49-45-156/source/sourcedir.tar.gz\u001b[0m\n",
      "\u001b[34mSM_TRAINING_ENV={\"additional_framework_parameters\":{},\"channel_input_dirs\":{},\"current_host\":\"algo-1\",\"framework_module\":\"sagemaker_pytorch_container.training:main\",\"hosts\":[\"algo-1\"],\"hyperparameters\":{},\"input_config_dir\":\"/opt/ml/input/config\",\"input_data_config\":{},\"input_dir\":\"/opt/ml/input\",\"is_master\":true,\"job_name\":\"pytorch-training-2021-11-08-06-49-45-156\",\"log_level\":20,\"master_hostname\":\"algo-1\",\"model_dir\":\"/opt/ml/model\",\"module_dir\":\"s3://sagemaker-us-west-2-517141035927/pytorch-training-2021-11-08-06-49-45-156/source/sourcedir.tar.gz\",\"module_name\":\"main\",\"network_interface_name\":\"eth0\",\"num_cpus\":2,\"num_gpus\":0,\"output_data_dir\":\"/opt/ml/output/data\",\"output_dir\":\"/opt/ml/output\",\"output_intermediate_dir\":\"/opt/ml/output/intermediate\",\"resource_config\":{\"current_host\":\"algo-1\",\"hosts\":[\"algo-1\"],\"network_interface_name\":\"eth0\"},\"user_entry_point\":\"main.py\"}\u001b[0m\n",
      "\u001b[34mSM_USER_ARGS=[]\u001b[0m\n",
      "\u001b[34mSM_OUTPUT_INTERMEDIATE_DIR=/opt/ml/output/intermediate\u001b[0m\n",
      "\u001b[34mPYTHONPATH=/opt/conda/bin:/opt/conda/lib/python36.zip:/opt/conda/lib/python3.6:/opt/conda/lib/python3.6/lib-dynload:/opt/conda/lib/python3.6/site-packages\u001b[0m\n",
      "\u001b[34mInvoking script with the following command:\u001b[0m\n",
      "\u001b[34m/opt/conda/bin/python -m main\u001b[0m\n"
     ]
    },
    {
     "name": "stdout",
     "output_type": "stream",
     "text": [
      "\n",
      "2021-11-08 06:53:43 Uploading - Uploading generated training model\n",
      "2021-11-08 06:53:43 Completed - Training job completed\n",
      "\u001b[34mMaxReward=0.63\u001b[0m\n",
      "\u001b[34m2021-11-08 06:53:33,030 sagemaker-containers INFO     Reporting training SUCCESS\u001b[0m\n",
      "Training seconds: 80\n",
      "Billable seconds: 80\n"
     ]
    }
   ],
   "source": [
    "estimator.fit()"
   ]
  },
  {
   "cell_type": "markdown",
   "id": "17b077ae",
   "metadata": {},
   "source": [
    "下载模型并解压\n",
    "什么是 PTH 文件？PTH 文件大多属于 PyTorch。PTH 是使用 PyTorch 进行机器学习的数据文件。PyTorch 是一个基于 Torch 库的开源机器学习库。它主要由 Facebook 人工智能研究小组开发。如何打开 PTH 文件。你需要像 PyTorch 这样的合适软件来打开"
   ]
  },
  {
   "cell_type": "code",
   "execution_count": 97,
   "id": "cb98b06a",
   "metadata": {},
   "outputs": [
    {
     "name": "stdout",
     "output_type": "stream",
     "text": [
      "download: s3://sagemaker-us-west-2-517141035927/pytorch-training-2021-11-08-06-49-45-156/output/model.tar.gz to ./model.tar.gz\n",
      "reward.npz\n",
      "policy.pth\n"
     ]
    }
   ],
   "source": [
    "!aws s3 cp $estimator.model_data ./\n",
    "!tar xvzf model.tar.gz\n",
    "!rm model.tar.gz"
   ]
  },
  {
   "cell_type": "markdown",
   "id": "c355c182",
   "metadata": {},
   "source": [
    "策略网络权重现在将位于。/policy.pth。\n",
    "\n",
    "在新单元格中，创建一个新的策略网络并将权重加载到内存中："
   ]
  },
  {
   "cell_type": "code",
   "execution_count": 98,
   "id": "242509d7",
   "metadata": {},
   "outputs": [
    {
     "data": {
      "text/plain": [
       "<All keys matched successfully>"
      ]
     },
     "execution_count": 98,
     "metadata": {},
     "output_type": "execute_result"
    }
   ],
   "source": [
    "sagemaker_policy = DeepQNetwork(config.n_state_features, config.n_actions)\n",
    "sagemaker_policy.load_state_dict(torch.load('policy.pth'))"
   ]
  },
  {
   "cell_type": "markdown",
   "id": "9d51755d",
   "metadata": {},
   "source": [
    "在测试级别评估性能："
   ]
  },
  {
   "cell_type": "code",
   "execution_count": 99,
   "id": "56ac06e1",
   "metadata": {},
   "outputs": [
    {
     "data": {
      "text/plain": [
       "0.0687"
      ]
     },
     "execution_count": 99,
     "metadata": {},
     "output_type": "execute_result"
    }
   ],
   "source": [
    "np.random.seed(1)\n",
    "n_attempts = 10000\n",
    "test_level = get_test_level()\n",
    "rewards = [\n",
    "    play_level(test_level, sagemaker_policy.learned_action)\n",
    "    for _ in range(n_attempts)\n",
    "]\n",
    "sum(rewards) / n_attempts\n"
   ]
  },
  {
   "cell_type": "markdown",
   "id": "bf958419",
   "metadata": {},
   "source": [
    "性能应该与 local_policy 网络相同，因为所有随机种子都是固定的。"
   ]
  },
  {
   "cell_type": "markdown",
   "id": "3e59d4f3",
   "metadata": {},
   "source": [
    "## 超参数优化\n",
    "大约需要20分钟左右"
   ]
  },
  {
   "cell_type": "code",
   "execution_count": 100,
   "id": "4479d60b",
   "metadata": {},
   "outputs": [],
   "source": [
    "tuner = HyperparameterTuner(\n",
    "    estimator,\n",
    "    objective_metric_name='MaxReward',\n",
    "    metric_definitions=[\n",
    "        dict(\n",
    "            Name='MaxReward',\n",
    "            Regex='MaxReward=([0-9\\\\.]+)',\n",
    "        )\n",
    "    ],\n",
    "    hyperparameter_ranges=dict(\n",
    "        target_update=IntegerParameter(10, 500),\n",
    "        epsilon_start=ContinuousParameter(0.25, 0.75),\n",
    "    ),\n",
    "    max_jobs=20,\n",
    "    max_parallel_jobs=5,\n",
    ")"
   ]
  },
  {
   "cell_type": "code",
   "execution_count": 101,
   "id": "13c9b4be",
   "metadata": {},
   "outputs": [
    {
     "name": "stdout",
     "output_type": "stream",
     "text": [
      "................................................................................................................................................................................................................................!\n",
      "!\n"
     ]
    }
   ],
   "source": [
    "tuner.fit()\n",
    "tuner.wait()"
   ]
  },
  {
   "cell_type": "code",
   "execution_count": 102,
   "id": "8e367755",
   "metadata": {},
   "outputs": [
    {
     "name": "stdout",
     "output_type": "stream",
     "text": [
      "download: s3://sagemaker-us-west-2-517141035927/pytorch-training-211108-0716-015-665e3cd3/output/model.tar.gz to ./model.tar.gz\n",
      "reward.npz\n",
      "policy.pth\n"
     ]
    }
   ],
   "source": [
    "model_path = (\n",
    "    estimator.output_path +\n",
    "    tuner.best_training_job() +\n",
    "    '/output/model.tar.gz'\n",
    ")\n",
    "\n",
    "!aws s3 cp $model_path ./\n",
    "!tar xvzf model.tar.gz\n",
    "!rm model.tar.gz\n"
   ]
  },
  {
   "cell_type": "code",
   "execution_count": 104,
   "id": "b9cfb93a",
   "metadata": {},
   "outputs": [
    {
     "data": {
      "text/plain": [
       "0.3854"
      ]
     },
     "execution_count": 104,
     "metadata": {},
     "output_type": "execute_result"
    }
   ],
   "source": [
    "tuned_policy = DeepQNetwork(config.n_state_features, config.n_actions)\n",
    "tuned_policy.load_state_dict(torch.load('policy.pth'))\n",
    "\n",
    "n_attempts = 10000\n",
    "rewards = [\n",
    "    play_level(test_level, tuned_policy.learned_action)## 原workshop有误，参数应该为test_level，文档中是test_env \n",
    "    for _ in range(n_attempts)\n",
    "]\n",
    "sum(rewards) / n_attempts"
   ]
  },
  {
   "cell_type": "markdown",
   "id": "0a61df57",
   "metadata": {},
   "source": [
    "## 按难度排序关卡"
   ]
  },
  {
   "cell_type": "markdown",
   "id": "e4b701c1",
   "metadata": {},
   "source": [
    "创建十个新关卡，并在每个级别上运行学习过的代理 10,000 次。然后存储难度（即 1-win_百分比）、出错的概率和冰洞的数量。按难度对关卡进行排序："
   ]
  },
  {
   "cell_type": "code",
   "execution_count": 105,
   "id": "3ab8144d",
   "metadata": {},
   "outputs": [
    {
     "name": "stdout",
     "output_type": "stream",
     "text": [
      "0\n",
      "1\n",
      "2\n",
      "3\n",
      "4\n",
      "5\n",
      "6\n",
      "7\n",
      "8\n",
      "9\n"
     ]
    }
   ],
   "source": [
    "np.random.seed(1)\n",
    "levels = []\n",
    "for i in range(10):\n",
    "    print(i)\n",
    "    level_config = Level.random(config.p_mistake_draw)\n",
    "    level = LeveledFrozenLake(level_config)\n",
    "    win_precentage = sum(\n",
    "        play_level(level, tuned_policy.learned_action)\n",
    "        for _ in range(n_attempts)\n",
    "    ) / n_attempts\n",
    "    n_holes = (np.array(list(''.join(level_config.board))) == 'H').sum()\n",
    "    levels.append(dict(\n",
    "        difficulty=1-win_precentage,\n",
    "        p_mistake=level_config.p_mistake,\n",
    "        n_holes=n_holes,\n",
    "        level=level,\n",
    "    ))\n",
    "\n",
    "levels = sorted(levels, key=lambda l: l['difficulty'])"
   ]
  },
  {
   "cell_type": "markdown",
   "id": "f003257b",
   "metadata": {},
   "source": [
    "这将需要大约十分钟的时间才能运行，因为代理程序必须为每个步骤调用策略网络。"
   ]
  },
  {
   "cell_type": "code",
   "execution_count": 106,
   "id": "e2969896",
   "metadata": {
    "scrolled": true
   },
   "outputs": [
    {
     "data": {
      "text/html": [
       "<div>\n",
       "<style scoped>\n",
       "    .dataframe tbody tr th:only-of-type {\n",
       "        vertical-align: middle;\n",
       "    }\n",
       "\n",
       "    .dataframe tbody tr th {\n",
       "        vertical-align: top;\n",
       "    }\n",
       "\n",
       "    .dataframe thead th {\n",
       "        text-align: right;\n",
       "    }\n",
       "</style>\n",
       "<table border=\"1\" class=\"dataframe\">\n",
       "  <thead>\n",
       "    <tr style=\"text-align: right;\">\n",
       "      <th></th>\n",
       "      <th>difficulty</th>\n",
       "      <th>p_mistake</th>\n",
       "      <th>n_holes</th>\n",
       "    </tr>\n",
       "  </thead>\n",
       "  <tbody>\n",
       "    <tr>\n",
       "      <th>0</th>\n",
       "      <td>0.0001</td>\n",
       "      <td>0.383704</td>\n",
       "      <td>1</td>\n",
       "    </tr>\n",
       "    <tr>\n",
       "      <th>1</th>\n",
       "      <td>0.0099</td>\n",
       "      <td>0.012298</td>\n",
       "      <td>1</td>\n",
       "    </tr>\n",
       "    <tr>\n",
       "      <th>2</th>\n",
       "      <td>0.0221</td>\n",
       "      <td>0.249097</td>\n",
       "      <td>1</td>\n",
       "    </tr>\n",
       "    <tr>\n",
       "      <th>3</th>\n",
       "      <td>0.3006</td>\n",
       "      <td>0.166809</td>\n",
       "      <td>1</td>\n",
       "    </tr>\n",
       "    <tr>\n",
       "      <th>4</th>\n",
       "      <td>0.3482</td>\n",
       "      <td>0.269900</td>\n",
       "      <td>3</td>\n",
       "    </tr>\n",
       "    <tr>\n",
       "      <th>5</th>\n",
       "      <td>0.6250</td>\n",
       "      <td>0.235281</td>\n",
       "      <td>3</td>\n",
       "    </tr>\n",
       "    <tr>\n",
       "      <th>6</th>\n",
       "      <td>0.6392</td>\n",
       "      <td>0.208750</td>\n",
       "      <td>3</td>\n",
       "    </tr>\n",
       "    <tr>\n",
       "      <th>7</th>\n",
       "      <td>0.7484</td>\n",
       "      <td>0.353764</td>\n",
       "      <td>3</td>\n",
       "    </tr>\n",
       "    <tr>\n",
       "      <th>8</th>\n",
       "      <td>0.8897</td>\n",
       "      <td>0.122576</td>\n",
       "      <td>4</td>\n",
       "    </tr>\n",
       "    <tr>\n",
       "      <th>9</th>\n",
       "      <td>0.8942</td>\n",
       "      <td>0.215218</td>\n",
       "      <td>4</td>\n",
       "    </tr>\n",
       "  </tbody>\n",
       "</table>\n",
       "</div>"
      ],
      "text/plain": [
       "   difficulty  p_mistake  n_holes\n",
       "0      0.0001   0.383704        1\n",
       "1      0.0099   0.012298        1\n",
       "2      0.0221   0.249097        1\n",
       "3      0.3006   0.166809        1\n",
       "4      0.3482   0.269900        3\n",
       "5      0.6250   0.235281        3\n",
       "6      0.6392   0.208750        3\n",
       "7      0.7484   0.353764        3\n",
       "8      0.8897   0.122576        4\n",
       "9      0.8942   0.215218        4"
      ]
     },
     "execution_count": 106,
     "metadata": {},
     "output_type": "execute_result"
    }
   ],
   "source": [
    "level_df = pd.DataFrame(levels)\n",
    "level_df = level_df.sort_values('difficulty')## 难度= （1-对应的就是通关率【win_precentage 】）\n",
    "level_df[['difficulty', 'p_mistake', 'n_holes']]"
   ]
  },
  {
   "cell_type": "markdown",
   "id": "a30f499b",
   "metadata": {},
   "source": [
    "难度= （1-对应的就是通关率【win_precentage 】） 也就是说对应级别的难度很低，通关率很高"
   ]
  },
  {
   "cell_type": "code",
   "execution_count": null,
   "id": "4c7d7f74",
   "metadata": {},
   "outputs": [],
   "source": []
  }
 ],
 "metadata": {
  "kernelspec": {
   "display_name": "conda_pytorch_p36",
   "language": "python",
   "name": "conda_pytorch_p36"
  },
  "language_info": {
   "codemirror_mode": {
    "name": "ipython",
    "version": 3
   },
   "file_extension": ".py",
   "mimetype": "text/x-python",
   "name": "python",
   "nbconvert_exporter": "python",
   "pygments_lexer": "ipython3",
   "version": "3.6.13"
  }
 },
 "nbformat": 4,
 "nbformat_minor": 5
}
